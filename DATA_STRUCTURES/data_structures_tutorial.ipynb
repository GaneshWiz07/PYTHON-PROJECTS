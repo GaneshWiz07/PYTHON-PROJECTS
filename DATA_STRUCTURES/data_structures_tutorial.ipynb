{
 "cells": [
  {
   "cell_type": "code",
   "execution_count": null,
   "id": "0a689a44",
   "metadata": {},
   "outputs": [],
   "source": [
    "                                #STRINGS    \n",
    "fruit = \"Mangosteen\"\n",
    "print(len(fruit))\n",
    "print(fruit[1:4])\n",
    "#String Indexing\n",
    "pets=\"Cats & Dogs\"\n",
    "pets.index(\"s\")\n",
    "pets=\"Cats & Dogs\"\n",
    "\"Cats\" in pets #Membership operator\n",
    "\"Birds\" not in pets #Negation of membership operator\n",
    "\n",
    "#String Methods\n",
    "pets=\"Cats & Dogs\"\n",
    "print(pets.upper())\n",
    "print(pets.lower())\n",
    "pet_name=\"bolt\"\n",
    "print(pet_name.capitalize())\n",
    "print(pets.count(\"s\"))\n",
    "print(pets.find(\"Dogs\"))\n",
    "print(pets.replace(\"Dogs\", \"Birds\"))\n",
    "print(pets.endswith(\"s\"))\n",
    "pets=\"cats232#Dogas\"\n",
    "print(pets.isalpha())\n",
    "print(pets.isdigit())\n",
    "print(pets.isalnum())\n",
    "print(pets.isspace())\n",
    "print(pets.isupper())\n",
    "print(pets.islower())\n",
    "\n",
    "#String Striping\n",
    "pets=\"    Cats & Dogs    \"  \n",
    "print(pets.strip())\n",
    "print(pets.lstrip())\n",
    "print(pets.rstrip())\n",
    "\n",
    "#String Splitting\n",
    "pets=\"Cats6Dogs\\nBirds\"\n",
    "print(pets.splitlines())\n",
    "print(pets.split(\"6\",2))\n",
    "print(pets.rsplit(\"6\",2))\n",
    "\n",
    "\n",
    "print(\"000\".join([\"Cats\",\"Dogs\",\"Birds\"]))\n",
    "\n",
    "#String Formatting\n",
    "name=\"John\"\n",
    "print(f\"Hello {name}\")\n"
   ]
  }
 ],
 "metadata": {
  "kernelspec": {
   "display_name": "Python 3",
   "language": "python",
   "name": "python3"
  },
  "language_info": {
   "codemirror_mode": {
    "name": "ipython",
    "version": 3
   },
   "file_extension": ".py",
   "mimetype": "text/x-python",
   "name": "python",
   "nbconvert_exporter": "python",
   "pygments_lexer": "ipython3",
   "version": "3.13.2"
  }
 },
 "nbformat": 4,
 "nbformat_minor": 5
}
