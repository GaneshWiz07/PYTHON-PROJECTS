{
 "cells": [
  {
   "cell_type": "code",
   "execution_count": null,
   "id": "0a689a44",
   "metadata": {},
   "outputs": [],
   "source": [
    "                                #STRING\n",
    "# String length and slicing\n",
    "fruit = \"Mangosteen\"\n",
    "print(len(fruit))  # Get length of string\n",
    "print(fruit[1:4])  # Slice string from index 1 to 3 (4 is exclusive)\n",
    "\n",
    "# String Indexing\n",
    "pets=\"Cats & Dogs\"\n",
    "pets.index(\"s\")  # Find index of first occurrence of \"s\"\n",
    "pets=\"Cats & Dogs\"\n",
    "\"Cats\" in pets  # Membership operator - check if \"Cats\" is in pets\n",
    "\"Birds\" not in pets  # Negation of membership operator - check if \"Birds\" is not in pets\n",
    "\n",
    "# String Methods\n",
    "pets=\"Cats & Dogs\"\n",
    "print(pets.upper())  # Convert to uppercase\n",
    "print(pets.lower())  # Convert to lowercase\n",
    "pet_name=\"bolt\"\n",
    "print(pet_name.capitalize())  # Capitalize first letter\n",
    "print(pets.count(\"s\"))  # Count occurrences of \"s\"\n",
    "print(pets.find(\"Dogs\"))  # Find index of \"Dogs\" substring\n",
    "print(pets.replace(\"Dogs\", \"Birds\"))  # Replace \"Dogs\" with \"Birds\"\n",
    "print(pets.endswith(\"s\"))  # Check if string ends with \"s\"\n",
    "pets=\"cats232#Dogas\"\n",
    "print(pets.isalpha())  # Check if all characters are alphabetic\n",
    "print(pets.isdigit())  # Check if all characters are digits\n",
    "print(pets.isalnum())  # Check if all characters are alphanumeric\n",
    "print(pets.isspace())  # Check if all characters are whitespace\n",
    "print(pets.isupper())  # Check if all characters are uppercase\n",
    "print(pets.islower())  # Check if all characters are lowercase\n",
    "\n",
    "# String Stripping\n",
    "pets=\"    Cats & Dogs    \"  \n",
    "print(pets.strip())  # Remove whitespace from both ends\n",
    "print(pets.lstrip())  # Remove whitespace from left end\n",
    "print(pets.rstrip())  # Remove whitespace from right end\n",
    "\n",
    "# String Splitting and Joining\n",
    "pets=\"Cats6Dogs\\nBirds\"\n",
    "print(pets.splitlines())  # Split string by line breaks\n",
    "print(pets.split(\"6\",2))  # Split string by \"6\" with max 2 splits\n",
    "print(pets.rsplit(\"6\",2))  # Split string by \"6\" from right with max 2 splits\n",
    "\n",
    "# Join list elements with separator\n",
    "print(\"000\".join([\"Cats\",\"Dogs\",\"Birds\"]))  # Join list with \"000\" as separator\n",
    "\n",
    "# String Formatting\n",
    "name=\"John\"\n",
    "print(f\"Hello {name}\")  # f-string formatting\n"
   ]
  }
 ],
 "metadata": {
  "kernelspec": {
   "display_name": "Python 3",
   "language": "python",
   "name": "python3"
  },
  "language_info": {
   "codemirror_mode": {
    "name": "ipython",
    "version": 3
   },
   "file_extension": ".py",
   "mimetype": "text/x-python",
   "name": "python",
   "nbconvert_exporter": "python",
   "pygments_lexer": "ipython3",
   "version": "3.13.2"
  }
 },
 "nbformat": 4,
 "nbformat_minor": 5
}
